{
 "cells": [
  {
   "cell_type": "markdown",
   "metadata": {},
   "source": [
    "# Numpy机器学习基础\n",
    "\n",
    "这是一份机器学习中应用Numpy的分享，侧重于机器学习中经常会涉及到的Numpy操作；顺带吐槽一下遇到过的坑。\n",
    "\n",
    "如果需要找内容量适中的教程可以去看菜鸟教程https://www.runoob.com/numpy/numpy-tutorial.html\n",
    "\n",
    "P.S.对于菜鸟教程的使用方法：\n",
    "- 最前面的安装和ndarray理解可以再多找找其他资料\n",
    "- 数组基本操作讲的比较清楚\n",
    "- 切片索引对于不熟悉的人来说要认真研究\n",
    "- 广播的原理和常识是一致的，因此可以后面再学\n",
    "- 迭代数组、位运算没啥用；字节交换也没啥用；IO暂时用不上（除非你需要.npy）\n",
    "- 字符串批处理、数学&统计函数遇到需求再查就行（一般单词猜的到）\n",
    "- 数组操作基本只用reshape\n",
    "- 排序、副本&视图--重在理解\n",
    "- 矩阵与线性代数：由于代数库可以直接操作数组，所以矩阵用的不多【注意dot函数即可】\n",
    "\n"
   ]
  },
  {
   "cell_type": "code",
   "execution_count": 1,
   "metadata": {},
   "outputs": [],
   "source": [
    "import numpy as np"
   ]
  },
  {
   "cell_type": "markdown",
   "metadata": {},
   "source": [
    "## 常用对象\n"
   ]
  },
  {
   "cell_type": "code",
   "execution_count": 2,
   "metadata": {},
   "outputs": [
    {
     "data": {
      "text/plain": [
       "(array([-1.        , -0.77777778, -0.55555556, -0.33333333, -0.11111111,\n",
       "         0.11111111,  0.33333333,  0.55555556,  0.77777778,  1.        ]),\n",
       " 0.2222222222222222)"
      ]
     },
     "execution_count": 2,
     "metadata": {},
     "output_type": "execute_result"
    }
   ],
   "source": [
    "np.linspace(-1,1,10,retstep=True)"
   ]
  },
  {
   "cell_type": "markdown",
   "metadata": {},
   "source": [
    "很多时候要自己建立ndarray的时候，其实最常见的是等差数列，因为画图问题经常要用到一个等距的坐标轴（或者在这个基础上进行坐标变换）。\n",
    "\n",
    "`np.linspace(start, stop, num=50, endpoint=True, retstep=False, dtype=None)`\n",
    "\n",
    "常用内容：`np.linspace(start, stop, num=50)`\n",
    "\n",
    "`retstep=True`会在数组最后附一个间距数值，意义不大（直接能看出来）\n",
    "\n",
    "\n",
    "要注意的事情有两点：\n",
    "* 和python惯例不一样，这个是默认上下界都包含在数组里面的\n",
    "* 拼写别写错，是lin-space没有e"
   ]
  },
  {
   "cell_type": "code",
   "execution_count": 3,
   "metadata": {},
   "outputs": [
    {
     "data": {
      "text/plain": [
       "array([1. , 1.5, 2. , 2.5, 3. , 3.5, 4. , 4.5])"
      ]
     },
     "execution_count": 3,
     "metadata": {},
     "output_type": "execute_result"
    }
   ],
   "source": [
    "np.arange(1,5,0.5)"
   ]
  },
  {
   "cell_type": "markdown",
   "metadata": {},
   "source": [
    "当然range也是有的：`np.arange(start, stop, step=1, dtype)`\n",
    "这个更加接近range，不包含终止值，设定步长"
   ]
  },
  {
   "cell_type": "code",
   "execution_count": 4,
   "metadata": {},
   "outputs": [
    {
     "data": {
      "text/plain": [
       "array([1.e+01, 1.e+02, 1.e+03, 1.e+04, 1.e+05, 1.e+06, 1.e+07, 1.e+08,\n",
       "       1.e+09, 1.e+10])"
      ]
     },
     "execution_count": 4,
     "metadata": {},
     "output_type": "execute_result"
    }
   ],
   "source": [
    "np.logspace(1, 10, num=10, endpoint=True, base=10.0, dtype=None)"
   ]
  },
  {
   "cell_type": "markdown",
   "metadata": {},
   "source": [
    "numpy.logspace 函数用于创建一个于**等比**数列。我们不需要先得到linspace再进行变换，可以直接用这个。\n",
    "\n",
    "`np.logspace(start, stop, num=50, endpoint=True, base=10.0, dtype=None)`\n",
    "\n",
    "参数和linspace大致相同，主要是多了一个`base`是底数。得到的数组是:$x_0=base^{start},x_n=base^{stop}$，上面的数字是等差的，所以数列是等比的。"
   ]
  },
  {
   "cell_type": "markdown",
   "metadata": {},
   "source": [
    "## 常用检查方式\n",
    "\n",
    "说到编程，教程往往给出一个快速打出hello world的流程，但是把实际情况的debug放在高级内容区。但是在基本入门之后最常用的反而是debug操作。"
   ]
  },
  {
   "cell_type": "code",
   "execution_count": 5,
   "metadata": {},
   "outputs": [],
   "source": [
    "def npCheck(arr,display=False):\n",
    "    print(f'当前对象的id为：{id(arr)}')#numpy有些是原位操作，要注意这点所以要检查id\n",
    "    if isinstance(arr,np.matrix):\n",
    "        print('这是一个np的matrix')\n",
    "        print(f'矩阵是{arr.shape[0]}*{arr.shape[1]}的')\n",
    "    elif isinstance(arr,np.ndarray):# 因为matrix也是array的实例\n",
    "        print('这是一个np的ndarray')\n",
    "        print(f'维数（轴的数目）是{arr.ndim}')\n",
    "        print(f'各维度的长度是{arr.shape}')\n",
    "        print(f'元素的数据类型是{arr.dtype}')\n",
    "    else:\n",
    "        print('这似乎不是numpy的对象吖')\n",
    "    if display:\n",
    "        print(arr)\n",
    "    print('-----------')"
   ]
  },
  {
   "cell_type": "code",
   "execution_count": 6,
   "metadata": {},
   "outputs": [
    {
     "name": "stdout",
     "output_type": "stream",
     "text": [
      "当前对象的id为：2254446908560\n",
      "这是一个np的ndarray\n",
      "维数（轴的数目）是1\n",
      "各维度的长度是(24,)\n",
      "元素的数据类型是int32\n",
      "-----------\n",
      "当前对象的id为：2254446907840\n",
      "这是一个np的ndarray\n",
      "维数（轴的数目）是3\n",
      "各维度的长度是(2, 3, 4)\n",
      "元素的数据类型是int32\n",
      "[[[ 0  1  2  3]\n",
      "  [ 4  5  6  7]\n",
      "  [ 8  9 10 11]]\n",
      "\n",
      " [[12 13 14 15]\n",
      "  [16 17 18 19]\n",
      "  [20 21 22 23]]]\n",
      "-----------\n"
     ]
    }
   ],
   "source": [
    "a = np.arange(24)\n",
    "b = a.reshape(2,3,4)\n",
    "npCheck(a)\n",
    "npCheck(b,True)"
   ]
  },
  {
   "cell_type": "code",
   "execution_count": 7,
   "metadata": {},
   "outputs": [
    {
     "name": "stdout",
     "output_type": "stream",
     "text": [
      "当前对象的id为：2254446685320\n",
      "这是一个np的matrix\n",
      "矩阵是3*8的\n",
      "[[ 0  1  2  3  4  5  6  7]\n",
      " [ 8  9 10 11 12 13 14 15]\n",
      " [16 17 18 19 20 21 22 23]]\n",
      "-----------\n"
     ]
    }
   ],
   "source": [
    "c = np.matrix(a.reshape(3,8))\n",
    "npCheck(c,True)"
   ]
  },
  {
   "cell_type": "code",
   "execution_count": 8,
   "metadata": {},
   "outputs": [
    {
     "name": "stdout",
     "output_type": "stream",
     "text": [
      "当前对象的id为：140723550868512\n",
      "这似乎不是numpy的对象吖\n",
      "-----------\n"
     ]
    }
   ],
   "source": [
    "d = 1\n",
    "npCheck(d) "
   ]
  },
  {
   "cell_type": "markdown",
   "metadata": {},
   "source": [
    "## 副本与视图\n",
    "\n",
    "Python相比于C的一个好处就是变量命名简便，但是有一个非常经典的代价也来源与此。Numpy在涉及的时候是为了存储大量数据，因此无必要情况不会进行数据复制，这会导致一个大问题。\n",
    "\n",
    "对于一个变量，在Python中我们是不能通过定义得知它究竟是什么，无论他是一个数据实体还是这个数据的引用，变量名都是随意的标签。这就会导致一个问题："
   ]
  },
  {
   "cell_type": "code",
   "execution_count": 9,
   "metadata": {},
   "outputs": [
    {
     "name": "stdout",
     "output_type": "stream",
     "text": [
      "True\n"
     ]
    }
   ],
   "source": [
    "entity = np.arange(5)\n",
    "e = entity\n",
    "print(id(entity)==id(e))"
   ]
  },
  {
   "cell_type": "markdown",
   "metadata": {},
   "source": [
    "这个结果对于Python来说还是比较容易理解的，因为Python的赋值是贴标签，所以两者名字不同但是实质一样"
   ]
  },
  {
   "cell_type": "code",
   "execution_count": 10,
   "metadata": {},
   "outputs": [
    {
     "name": "stdout",
     "output_type": "stream",
     "text": [
      "2254446908800\n",
      "2254446907680\n",
      "[2333    1    2    3    4]\n",
      "<memory at 0x0000020CE77CEA08> <memory at 0x0000020CE77CEAC8>\n"
     ]
    }
   ],
   "source": [
    "entity = np.arange(5)\n",
    "print(id(entity))\n",
    "slice_ = entity[:]\n",
    "print(id(slice_))\n",
    "slice_[0] = 2333\n",
    "print(entity)\n",
    "print(entity.data,slice_.data)"
   ]
  },
  {
   "cell_type": "markdown",
   "metadata": {},
   "source": [
    "如果我们对于Numpy的数组进行一个切片，将这个切片赋值给一个变量，虽然切片的id和原来实体不一样(甚至连内存`.data`也不一样），但是切片相当于是原来实体的引用，操作还是会修改原来的数组。\n",
    "\n",
    "这个一开始不太容易理解，但是考虑到Numpy常用的一个操作就是部分修改数组的数值，而且用的是切片，所以对切片的操作确实应该作用在原数据上。但是这里要注意的一点是，如同再另外做一个temp变量记录，那么要用到copy，否则后面容易把temp当做独立的数据，尽管temp其实还是切片。\n",
    "\n",
    "这方面有个例子是连续正交化线性回归的操作，对X的正交化求正交的Z时如果不注意的话会修改原有X的数值。"
   ]
  },
  {
   "cell_type": "code",
   "execution_count": 11,
   "metadata": {},
   "outputs": [
    {
     "name": "stdout",
     "output_type": "stream",
     "text": [
      "[[2333    1    2    3    4]]\n",
      "[[2333]\n",
      " [   1]\n",
      " [   2]\n",
      " [   3]\n",
      " [   4]]\n",
      "[2333    1    2    3    4]\n"
     ]
    }
   ],
   "source": [
    "slice2 = slice_.reshape(5,1)\n",
    "slice_.shape = 1,5\n",
    "print(slice_)\n",
    "print(slice2)\n",
    "print(entity)"
   ]
  },
  {
   "cell_type": "markdown",
   "metadata": {},
   "source": [
    "但是切片不是纯粹等价于原始数据的，改变数值会影响原来的数据，但是rehape不会影响，实际上切片效果和`.view()`函数是一样的，通过reshape或者直接改`.shape`不影响原来的数据，所以切片也可以叫做视图。"
   ]
  },
  {
   "cell_type": "markdown",
   "metadata": {},
   "source": [
    "总结：\n",
    "- 换名字：a=b只是变量称呼不同\n",
    "- 视图：a=b[:],a=b.view()\n",
    "- 拷贝：a = b[:].copy()"
   ]
  },
  {
   "cell_type": "raw",
   "metadata": {},
   "source": [
    "那个差点搞死我的例子\n",
    "def RSO(X,y):\n",
    "    \"\"\"\n",
    "    Regression by Successive Orthogonalization\n",
    "    连续正交化求解多元回归的算法\n",
    "    讲解https://zhuanlan.zhihu.com/p/41993542\n",
    "    \"\"\"\n",
    "    all1 = np.matrix(np.ones(shape=(X.shape[0],1)))\n",
    "    X = np.hstack((all1,X))#首先把1给补上\n",
    "    X = np.array(X)\n",
    "    dim = X.shape[1]\n",
    "    Zlist = np.zeros(X.shape)\n",
    "    Blist = np.zeros(dim)\n",
    "    y = np.array(y,dtype='float').reshape(y.size)\n",
    "    for i in range(dim):\n",
    "        x = X[:,i].copy()#其实施密特正交化不需要存x，后面x和temp投影是一样的\n",
    "        temp = X[:,i].copy()\n",
    "        if i==0:\n",
    "            Zlist[:,i] = temp\n",
    "        else :\n",
    "            for j in range(i):\n",
    "                z = Zlist[:,j]\n",
    "                temp -= (np.dot(x,z)/np.dot(z,z))*z\n",
    "            Zlist[:,i] = temp\n",
    "    #print(Zlist)\n",
    "    for i in range(dim-1,-1,-1):\n",
    "        temp = y\n",
    "        z = Zlist[:,i]\n",
    "        if i==dim-1:\n",
    "            Blist[i] = z.dot(y)/np.dot(z,z)\n",
    "        else:\n",
    "            for j in range(dim-1,i,-1):\n",
    "                temp = temp - Blist[j]*X[:,j]\n",
    "            Blist[i] = z.dot(temp)/np.dot(z,z)\n",
    "    return Blist"
   ]
  }
 ],
 "metadata": {
  "kernelspec": {
   "display_name": "Python 3",
   "language": "python",
   "name": "python3"
  },
  "language_info": {
   "codemirror_mode": {
    "name": "ipython",
    "version": 3
   },
   "file_extension": ".py",
   "mimetype": "text/x-python",
   "name": "python",
   "nbconvert_exporter": "python",
   "pygments_lexer": "ipython3",
   "version": "3.7.0"
  }
 },
 "nbformat": 4,
 "nbformat_minor": 4
}
